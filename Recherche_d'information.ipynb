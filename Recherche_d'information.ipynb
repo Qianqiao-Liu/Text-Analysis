{
  "nbformat": 4,
  "nbformat_minor": 0,
  "metadata": {
    "colab": {
      "name": "Recherche_d'information.ipynb",
      "provenance": [],
      "collapsed_sections": [],
      "machine_shape": "hm"
    },
    "kernelspec": {
      "name": "python3",
      "display_name": "Python 3"
    }
  },
  "cells": [
    {
      "cell_type": "code",
      "metadata": {
        "id": "M1mJT4e4Sqdn"
      },
      "source": [
        "from sklearn.feature_extraction.text import CountVectorizer,TfidfTransformer\n",
        "from sklearn.naive_bayes import MultinomialNB\n",
        "from sklearn.metrics import confusion_matrix\n",
        "from sklearn.metrics import plot_confusion_matrix\n",
        "import os\n",
        "import numpy as np\n",
        "import nltk\n",
        "import re\n",
        "import seaborn as sns\n",
        "import pandas as pd\n",
        "from nltk.text import TextCollection\n",
        "from collections import Counter\n",
        "from numpy.random import choice\n",
        "from nltk.corpus import webtext\n",
        "from nltk import word_tokenize, sent_tokenize\n",
        "from sklearn.linear_model import LogisticRegression\n",
        "from sklearn.ensemble import RandomForestClassifier\n",
        "from sklearn.svm import LinearSVC\n",
        "from sklearn.model_selection import cross_val_score,train_test_split"
      ],
      "execution_count": 1,
      "outputs": []
    },
    {
      "cell_type": "markdown",
      "metadata": {
        "id": "jFQ-MqNKBzVl"
      },
      "source": [
        "# Modèle vectoriel\n",
        "\n",
        "---\n",
        "\n",
        "*   Extraire le vocabulaire utilisé par un ensemble de documents\n",
        "\n"
      ]
    },
    {
      "cell_type": "code",
      "metadata": {
        "id": "wFot5Swf40DH",
        "colab": {
          "base_uri": "https://localhost:8080/"
        },
        "outputId": "927426fc-dbf7-44b1-eb56-e80a14c55d6a"
      },
      "source": [
        "# load texts&extract vocabulary\n",
        "nltk.download('punkt')\n",
        "from nltk.corpus import gutenberg\n",
        "\n",
        "for fileid in gutenberg.fileids():\n",
        "  chars = gutenberg.raw(fileid)\n",
        "  words = gutenberg.words(fileid)\n",
        "  sents = gutenberg.sents(fileid)\n",
        "  vocab = set(w.lower() for w in gutenberg.words(fileid))"
      ],
      "execution_count": 7,
      "outputs": [
        {
          "output_type": "stream",
          "text": [
            "[nltk_data] Downloading package punkt to /root/nltk_data...\n",
            "[nltk_data]   Unzipping tokenizers/punkt.zip.\n"
          ],
          "name": "stdout"
        }
      ]
    },
    {
      "cell_type": "markdown",
      "metadata": {
        "id": "M8yYKTYlJ3HD"
      },
      "source": [
        "*  Calculez l'idf de chaque terme\n",
        "\n"
      ]
    },
    {
      "cell_type": "code",
      "metadata": {
        "id": "lj9QapsIYZ7A"
      },
      "source": [
        "corpus = TextCollection(sents)\n",
        "\n",
        "mot_idf = []\n",
        "for mot in words:\n",
        "  mot_idf.append(corpus.idf(mot))"
      ],
      "execution_count": 8,
      "outputs": []
    },
    {
      "cell_type": "markdown",
      "metadata": {
        "id": "SEv_8xGgY-UK"
      },
      "source": [
        "* Fournir une représentation vectorielle de chacun des documents précédents basé sur le vocabulaire extrait. Utilisez différents schéma de pondération (tf, wf, tf−idf, wf−idf...)\n"
      ]
    },
    {
      "cell_type": "code",
      "metadata": {
        "id": "OGr783qhZZGj"
      },
      "source": [
        "vocab_wf = CountVectorizer().fit_transform(vocab)\n",
        "vocab_tfidf = TfidfTransformer().fit_transform(vocab_wf)\n",
        "vocab_tf = TfidfTransformer(use_idf=False).fit_transform(vocab_wf)"
      ],
      "execution_count": 9,
      "outputs": []
    },
    {
      "cell_type": "markdown",
      "metadata": {
        "id": "64ywPssodtnW"
      },
      "source": [
        "* Proposez les 10 premiers documents d'une liste ordonnée sur la base d'un score de correspondance entre requête et document."
      ]
    },
    {
      "cell_type": "code",
      "metadata": {
        "id": "QqiNSATedxEf"
      },
      "source": [
        "doc_ord=nltk.ConditionalFreqDist((target,fileid[:10]) for fileid in gutenberg.fileids() for w in gutenberg.words(fileid) for target in ['america','citizen'] if w.lower().startswith(target))"
      ],
      "execution_count": 10,
      "outputs": []
    },
    {
      "cell_type": "code",
      "metadata": {
        "id": "u9W3_g9cnxEz",
        "colab": {
          "base_uri": "https://localhost:8080/"
        },
        "outputId": "f3452154-9a5b-49ba-b88d-075cd0fe6bdc"
      },
      "source": [
        "doc_ord"
      ],
      "execution_count": 11,
      "outputs": [
        {
          "output_type": "execute_result",
          "data": {
            "text/plain": [
              "ConditionalFreqDist(nltk.probability.FreqDist,\n",
              "                    {'america': FreqDist({'bryant-sto': 3,\n",
              "                               'chesterton': 36,\n",
              "                               'melville-m': 53,\n",
              "                               'milton-par': 1,\n",
              "                               'whitman-le': 93}),\n",
              "                     'citizen': FreqDist({'austen-emm': 1,\n",
              "                               'bible-kjv.': 3,\n",
              "                               'chesterton': 16,\n",
              "                               'edgeworth-': 1,\n",
              "                               'shakespear': 2,\n",
              "                               'whitman-le': 4})})"
            ]
          },
          "metadata": {
            "tags": []
          },
          "execution_count": 11
        }
      ]
    },
    {
      "cell_type": "markdown",
      "metadata": {
        "id": "kzsTvLODeN74"
      },
      "source": [
        "# Modèle de langue\n",
        "\n",
        "A partir d'un corpus de documents estimez les modèles probabilistes :\n",
        "\n",
        "*   unigramme P(t)\n",
        "*   bigramme P(ti|tj)\n",
        "\n",
        "Et générez des séquences de termes issues de ces modèles."
      ]
    },
    {
      "cell_type": "code",
      "metadata": {
        "id": "HDQPgcoxkDe4",
        "colab": {
          "base_uri": "https://localhost:8080/"
        },
        "outputId": "361ccfc0-6558-450f-b340-80dc8cdf0342"
      },
      "source": [
        "def generate_model(cfdist,word,num=5):\n",
        "    for i in range(num):\n",
        "        print(word)\n",
        "        word=cfdist[word].max()\n",
        "bigrams = nltk.bigrams(words)\n",
        "cfd=nltk.ConditionalFreqDist(bigrams)\n",
        "generate_model(cfd,'what')"
      ],
      "execution_count": 12,
      "outputs": [
        {
          "output_type": "stream",
          "text": [
            "what\n",
            "is\n",
            "the\n",
            "earth\n",
            ",\n"
          ],
          "name": "stdout"
        }
      ]
    },
    {
      "cell_type": "code",
      "metadata": {
        "id": "uudiVm23fyxo"
      },
      "source": [
        "def unigram_prob_map(unigram_counter):\n",
        "  n_words = sum(unigram_counter.values())\n",
        "  return {w: unigram_counter[w]/float(n_words) for w in unigram_counter}\n",
        "\n",
        "def generate(vocab, start_words, n_words):\n",
        "  # Create probability map\n",
        "  unigram_counter = Counter(vocab)\n",
        "  unigram_prob = unigram_prob_map(unigram_counter)\n",
        "\n",
        "  # Build sentence\n",
        "  w1, w2 = start_words[0], start_words[1]\n",
        "  words = [w1, w2]\n",
        "  for i in range(n_words):\n",
        "    # Use unigram\n",
        "    prob_map = unigram_prob\n",
        "    next_words = prob_map.keys()\n",
        "    next_word = choice(next_words, p=[prob_map[w] for w in next_words])\n",
        "\n",
        "    # Update words\n",
        "  w1 = w2\n",
        "  w2 = next_word\n",
        "  words.append(w2)\n",
        "  sentence = ' '.join(words)\n",
        "  return sentence "
      ],
      "execution_count": 13,
      "outputs": []
    },
    {
      "cell_type": "code",
      "metadata": {
        "id": "zPW6H9UagU51",
        "colab": {
          "base_uri": "https://localhost:8080/",
          "height": 456
        },
        "outputId": "0d0a45f6-2a9b-46cc-c839-073168a9b822"
      },
      "source": [
        "s = generate(vocab,['hi','i'],2)"
      ],
      "execution_count": 17,
      "outputs": [
        {
          "output_type": "error",
          "ename": "ValueError",
          "evalue": "ignored",
          "traceback": [
            "\u001b[0;31m---------------------------------------------------------------------------\u001b[0m",
            "\u001b[0;31mTypeError\u001b[0m                                 Traceback (most recent call last)",
            "\u001b[0;32mmtrand.pyx\u001b[0m in \u001b[0;36mnumpy.random.mtrand.RandomState.choice\u001b[0;34m()\u001b[0m\n",
            "\u001b[0;31mTypeError\u001b[0m: 'dict_keys' object cannot be interpreted as an integer",
            "\nDuring handling of the above exception, another exception occurred:\n",
            "\u001b[0;31mValueError\u001b[0m                                Traceback (most recent call last)",
            "\u001b[0;32m<ipython-input-17-04c9e56b6fb5>\u001b[0m in \u001b[0;36m<module>\u001b[0;34m()\u001b[0m\n\u001b[0;32m----> 1\u001b[0;31m \u001b[0ms\u001b[0m \u001b[0;34m=\u001b[0m \u001b[0mgenerate\u001b[0m\u001b[0;34m(\u001b[0m\u001b[0mvocab\u001b[0m\u001b[0;34m,\u001b[0m\u001b[0;34m[\u001b[0m\u001b[0;34m'hi'\u001b[0m\u001b[0;34m,\u001b[0m\u001b[0;34m'i'\u001b[0m\u001b[0;34m]\u001b[0m\u001b[0;34m,\u001b[0m\u001b[0;36m2\u001b[0m\u001b[0;34m)\u001b[0m\u001b[0;34m\u001b[0m\u001b[0;34m\u001b[0m\u001b[0m\n\u001b[0m",
            "\u001b[0;32m<ipython-input-13-8db6c5da0a35>\u001b[0m in \u001b[0;36mgenerate\u001b[0;34m(vocab, start_words, n_words)\u001b[0m\n\u001b[1;32m     15\u001b[0m     \u001b[0mprob_map\u001b[0m \u001b[0;34m=\u001b[0m \u001b[0munigram_prob\u001b[0m\u001b[0;34m\u001b[0m\u001b[0;34m\u001b[0m\u001b[0m\n\u001b[1;32m     16\u001b[0m     \u001b[0mnext_words\u001b[0m \u001b[0;34m=\u001b[0m \u001b[0mprob_map\u001b[0m\u001b[0;34m.\u001b[0m\u001b[0mkeys\u001b[0m\u001b[0;34m(\u001b[0m\u001b[0;34m)\u001b[0m\u001b[0;34m\u001b[0m\u001b[0;34m\u001b[0m\u001b[0m\n\u001b[0;32m---> 17\u001b[0;31m     \u001b[0mnext_word\u001b[0m \u001b[0;34m=\u001b[0m \u001b[0mchoice\u001b[0m\u001b[0;34m(\u001b[0m\u001b[0mnext_words\u001b[0m\u001b[0;34m,\u001b[0m \u001b[0mp\u001b[0m\u001b[0;34m=\u001b[0m\u001b[0;34m[\u001b[0m\u001b[0mprob_map\u001b[0m\u001b[0;34m[\u001b[0m\u001b[0mw\u001b[0m\u001b[0;34m]\u001b[0m \u001b[0;32mfor\u001b[0m \u001b[0mw\u001b[0m \u001b[0;32min\u001b[0m \u001b[0mnext_words\u001b[0m\u001b[0;34m]\u001b[0m\u001b[0;34m)\u001b[0m\u001b[0;34m\u001b[0m\u001b[0;34m\u001b[0m\u001b[0m\n\u001b[0m\u001b[1;32m     18\u001b[0m \u001b[0;34m\u001b[0m\u001b[0m\n\u001b[1;32m     19\u001b[0m     \u001b[0;31m# Update words\u001b[0m\u001b[0;34m\u001b[0m\u001b[0;34m\u001b[0m\u001b[0;34m\u001b[0m\u001b[0m\n",
            "\u001b[0;32mmtrand.pyx\u001b[0m in \u001b[0;36mnumpy.random.mtrand.RandomState.choice\u001b[0;34m()\u001b[0m\n",
            "\u001b[0;31mValueError\u001b[0m: a must be 1-dimensional or an integer"
          ]
        }
      ]
    },
    {
      "cell_type": "markdown",
      "metadata": {
        "id": "7-woa3r6oorU"
      },
      "source": [
        "# Classification de texte"
      ]
    },
    {
      "cell_type": "markdown",
      "metadata": {
        "id": "g6ThRTGCorY1"
      },
      "source": [
        "\n",
        "\n",
        "*   Sélectionnez plusieurs ressources textuelles (par exemple différents ouvrages de nltk) et découpez chacune d'elles en phrase.\n",
        "\n",
        "*   Utilisez les différentes ressources textuelles comme des classes et les phrases comme des éléments associés à ces classes.\n",
        "\n"
      ]
    },
    {
      "cell_type": "code",
      "metadata": {
        "id": "HehoBC9Aq5sY",
        "colab": {
          "base_uri": "https://localhost:8080/"
        },
        "outputId": "7f2a21fb-86ff-4a4a-e450-43f51e184d09"
      },
      "source": [
        "nltk.download('webtext')\n",
        "\n",
        "data = pd.DataFrame()\n",
        "X_train = pd.DataFrame()\n",
        "i = 0\n",
        "for fileid in webtext.fileids():\n",
        "  temp = sent_tokenize(webtext.raw(fileid))\n",
        "  temp = pd.DataFrame(temp)\n",
        "  temp['class'] = i\n",
        "  i += 1\n",
        "  data = pd.concat([X_train,temp],axis=0)"
      ],
      "execution_count": 96,
      "outputs": [
        {
          "output_type": "stream",
          "text": [
            "[nltk_data] Downloading package webtext to /root/nltk_data...\n",
            "[nltk_data]   Package webtext is already up-to-date!\n"
          ],
          "name": "stdout"
        }
      ]
    },
    {
      "cell_type": "code",
      "metadata": {
        "colab": {
          "base_uri": "https://localhost:8080/"
        },
        "id": "PXXrlKoI-XBV",
        "outputId": "a12b8c54-97c6-4192-f6e9-9c2d1cebc65c"
      },
      "source": [
        "nltk.download('nps_chat')\n",
        "\n",
        "i = 0\n",
        "for fileid in nps_chat.fileids():\n",
        "  temp = sent_tokenize(nps_chat.raw(fileid))\n",
        "  temp = pd.DataFrame(temp)\n",
        "  temp['class'] = i\n",
        "  i += 1\n",
        "  data = pd.concat([X_train,temp],axis=0)"
      ],
      "execution_count": 98,
      "outputs": [
        {
          "output_type": "stream",
          "text": [
            "[nltk_data] Downloading package nps_chat to /root/nltk_data...\n",
            "[nltk_data]   Unzipping corpora/nps_chat.zip.\n"
          ],
          "name": "stdout"
        }
      ]
    },
    {
      "cell_type": "markdown",
      "metadata": {
        "id": "8wInNIuyqw2b"
      },
      "source": [
        "\n",
        "\n",
        "*   Proposez des méthodes de classification de texte, que vous évaluerez sur votre corpus après l'avoir partitionné en base d'apprentissage, base de validation et base de test."
      ]
    },
    {
      "cell_type": "code",
      "metadata": {
        "id": "0eLHeapCyvOE"
      },
      "source": [
        "from sklearn.model_selection import train_test_split\n",
        "X = data.iloc[:,0]\n",
        "y = data.iloc[:,1]\n",
        "X.replace(',', \"\")\n",
        "X.replace(\"'\", \"\")\n",
        "X.replace('.', \"\")\n",
        "X.replace('\"', \"\")\n",
        "X.replace('?', '')\n",
        "X.replace('!', \"\")\n",
        "X.replace(':', '')\n",
        "X.replace('\\n', '')\n",
        "X_train, X_test, y_train, y_test = train_test_split(X,y,test_size=0.2)"
      ],
      "execution_count": 100,
      "outputs": []
    },
    {
      "cell_type": "code",
      "metadata": {
        "id": "38wI8HVmy88F"
      },
      "source": [
        "# Create document vectors\n",
        "vectorizer = CountVectorizer(max_features=3000)\n",
        "vectorizer = CountVectorizer(max_features=2000)\n",
        "vectorizer.fit(X_train)\n",
        "X_train_counts = vectorizer.transform(X_train)\n",
        "X_test_counts = vectorizer.transform(X_test)\n",
        "\n",
        "tf_transformer = TfidfTransformer().fit(X_train_counts)\n",
        "X_train_tf = tf_transformer.transform(X_train_counts)\n",
        "X_test_tf = tf_transformer.transform(X_test_counts)"
      ],
      "execution_count": 101,
      "outputs": []
    },
    {
      "cell_type": "code",
      "metadata": {
        "id": "mt6P1hYXzD18"
      },
      "source": [
        "# train a Naive Bayes classifier using tf_idf\n",
        "clf_2 = MultinomialNB()\n",
        "clf_2.fit(X_train_tf, y_train)\n",
        "y_test_pred = clf_2.predict(X_test_tf)\n",
        "from sklearn.metrics import accuracy_score\n",
        "test_tf_score = accuracy_score(y_test, y_test_pred)"
      ],
      "execution_count": 103,
      "outputs": []
    },
    {
      "cell_type": "code",
      "metadata": {
        "id": "V1gfsWk4zVEx",
        "colab": {
          "base_uri": "https://localhost:8080/",
          "height": 1000
        },
        "outputId": "ded367d9-9f6f-49a7-cb93-7fe9bde42f2a"
      },
      "source": [
        "models = [RandomForestClassifier(n_estimators=200, max_depth=3, random_state=0),\n",
        "          LinearSVC(),\n",
        "          MultinomialNB(),\n",
        "          LogisticRegression(random_state=0)]\n",
        "\n",
        "CV = 5\n",
        "cv_df = pd.DataFrame(index=range(CV * len(models)))\n",
        "entries = []\n",
        "for model in models:\n",
        "  model_name = model.__class__.__name__\n",
        "  accuracies = cross_val_score(model, X_transform, y, scoring='accuracy', cv=CV)\n",
        "  \n",
        "  for fold_idx, accuracy in enumerate(accuracies):\n",
        "    entries.append((model_name, fold_idx, accuracy))\n",
        "cv_df = pd.DataFrame(entries, columns=['model_name', 'fold_idx', 'accuracy'])\n",
        "sns.boxplot(x='model_name', y='accuracy', data=cv_df)\n",
        "sns.stripplot(x='model_name', y='accuracy', data=cv_df, \n",
        "              size=8, jitter=True, edgecolor=\"gray\", linewidth=2)\n",
        "plt.show()\n",
        "\n"
      ],
      "execution_count": null,
      "outputs": [
        {
          "output_type": "stream",
          "text": [
            "/usr/local/lib/python3.6/dist-packages/sklearn/linear_model/_logistic.py:940: ConvergenceWarning: lbfgs failed to converge (status=1):\n",
            "STOP: TOTAL NO. of ITERATIONS REACHED LIMIT.\n",
            "\n",
            "Increase the number of iterations (max_iter) or scale the data as shown in:\n",
            "    https://scikit-learn.org/stable/modules/preprocessing.html\n",
            "Please also refer to the documentation for alternative solver options:\n",
            "    https://scikit-learn.org/stable/modules/linear_model.html#logistic-regression\n",
            "  extra_warning_msg=_LOGISTIC_SOLVER_CONVERGENCE_MSG)\n",
            "/usr/local/lib/python3.6/dist-packages/sklearn/linear_model/_logistic.py:940: ConvergenceWarning: lbfgs failed to converge (status=1):\n",
            "STOP: TOTAL NO. of ITERATIONS REACHED LIMIT.\n",
            "\n",
            "Increase the number of iterations (max_iter) or scale the data as shown in:\n",
            "    https://scikit-learn.org/stable/modules/preprocessing.html\n",
            "Please also refer to the documentation for alternative solver options:\n",
            "    https://scikit-learn.org/stable/modules/linear_model.html#logistic-regression\n",
            "  extra_warning_msg=_LOGISTIC_SOLVER_CONVERGENCE_MSG)\n",
            "/usr/local/lib/python3.6/dist-packages/sklearn/linear_model/_logistic.py:940: ConvergenceWarning: lbfgs failed to converge (status=1):\n",
            "STOP: TOTAL NO. of ITERATIONS REACHED LIMIT.\n",
            "\n",
            "Increase the number of iterations (max_iter) or scale the data as shown in:\n",
            "    https://scikit-learn.org/stable/modules/preprocessing.html\n",
            "Please also refer to the documentation for alternative solver options:\n",
            "    https://scikit-learn.org/stable/modules/linear_model.html#logistic-regression\n",
            "  extra_warning_msg=_LOGISTIC_SOLVER_CONVERGENCE_MSG)\n",
            "/usr/local/lib/python3.6/dist-packages/sklearn/linear_model/_logistic.py:940: ConvergenceWarning: lbfgs failed to converge (status=1):\n",
            "STOP: TOTAL NO. of ITERATIONS REACHED LIMIT.\n",
            "\n",
            "Increase the number of iterations (max_iter) or scale the data as shown in:\n",
            "    https://scikit-learn.org/stable/modules/preprocessing.html\n",
            "Please also refer to the documentation for alternative solver options:\n",
            "    https://scikit-learn.org/stable/modules/linear_model.html#logistic-regression\n",
            "  extra_warning_msg=_LOGISTIC_SOLVER_CONVERGENCE_MSG)\n",
            "/usr/local/lib/python3.6/dist-packages/sklearn/linear_model/_logistic.py:940: ConvergenceWarning: lbfgs failed to converge (status=1):\n",
            "STOP: TOTAL NO. of ITERATIONS REACHED LIMIT.\n",
            "\n",
            "Increase the number of iterations (max_iter) or scale the data as shown in:\n",
            "    https://scikit-learn.org/stable/modules/preprocessing.html\n",
            "Please also refer to the documentation for alternative solver options:\n",
            "    https://scikit-learn.org/stable/modules/linear_model.html#logistic-regression\n",
            "  extra_warning_msg=_LOGISTIC_SOLVER_CONVERGENCE_MSG)\n"
          ],
          "name": "stderr"
        },
        {
          "output_type": "display_data",
          "data": {
            "image/png": "[encoded data removed]",
            "text/plain": [
              "<Figure size 432x288 with 1 Axes>"
            ]
          },
          "metadata": {
            "tags": []
          }
        }
      ]
    },
    {
      "cell_type": "code",
      "metadata": {
        "id": "X9QZXTMu3VsB",
        "colab": {
          "base_uri": "https://localhost:8080/",
          "height": 127
        },
        "outputId": "0069f93d-6f10-48cd-8974-f3c8c7afb399"
      },
      "source": [
        "cv_df.groupby('model_name').accuracy.mean()"
      ],
      "execution_count": null,
      "outputs": [
        {
          "output_type": "execute_result",
          "data": {
            "text/plain": [
              "model_name\n",
              "LinearSVC                 0.923944\n",
              "LogisticRegression        0.911997\n",
              "MultinomialNB             0.909671\n",
              "RandomForestClassifier    0.640798\n",
              "Name: accuracy, dtype: float64"
            ]
          },
          "metadata": {
            "tags": []
          },
          "execution_count": 187
        }
      ]
    },
    {
      "cell_type": "markdown",
      "metadata": {
        "id": "RLpYUUtDq04E"
      },
      "source": [
        "\n",
        "*   Sélectionnez la méthode offrant les meilleures performances sur votre base de validation (éventuellement en utilisant de la cross-validation) et donnez ses performances (matrice de confusion) sur la base de test."
      ]
    },
    {
      "cell_type": "code",
      "metadata": {
        "id": "5KyC-gAf3b3G"
      },
      "source": [
        "model = LinearSVC()\n",
        "X_train, X_test, y_train, y_test, indices_train, indices_test = train_test_split(X_transform, y, data.index, test_size=0.33, random_state=0)\n",
        "model.fit(X_train, y_train)\n",
        "y_pred = model.predict(X_test)"
      ],
      "execution_count": null,
      "outputs": []
    },
    {
      "cell_type": "code",
      "metadata": {
        "id": "dJHbzWqT4KiJ"
      },
      "source": [
        "def plot_confusion_matrix(cm, classes,\n",
        "                          normalize=False,\n",
        "                          title='Confusion matrix',\n",
        "                          cmap=plt.cm.Blues):\n",
        "    \"\"\"\n",
        "    This function prints and plots the confusion matrix.\n",
        "    Normalization can be applied by setting `normalize=True`.\n",
        "    \"\"\"\n",
        "    if normalize:\n",
        "        cm = cm.astype('float') / cm.sum(axis=1)[:, np.newaxis]\n",
        "        print(\"Normalized confusion matrix\")\n",
        "    else:\n",
        "        print('Confusion matrix, without normalization')\n",
        "\n",
        "    #print(cm)\n",
        "\n",
        "    plt.imshow(cm, interpolation='nearest', cmap=cmap)\n",
        "    plt.title(title)\n",
        "    #plt.colorbar()\n",
        "    tick_marks = np.arange(len(classes))\n",
        "    plt.xticks(tick_marks, classes, rotation=45)\n",
        "    plt.yticks(tick_marks, classes)\n",
        "\n",
        "    fmt = '.2f' if normalize else 'd'\n",
        "    thresh = cm.max() / 2.\n",
        "    for i, j in itertools.product(range(cm.shape[0]), range(cm.shape[1])):\n",
        "        plt.text(j, i, format(cm[i, j], fmt),\n",
        "                 horizontalalignment=\"center\",\n",
        "                 color=\"white\" if cm[i, j] > thresh else \"black\")\n",
        "\n",
        "    plt.ylabel('True label')\n",
        "    plt.xlabel('Predicted label')\n",
        "    plt.tight_layout()\n",
        "    \n",
        "def plot_conf_mat(y_test, y_pred):\n",
        "    conf_mat = confusion_matrix(y_test, y_pred)\n",
        "    CLASSES_LIST = np.unique(y_test)\n",
        "    print(conf_mat)\n",
        "    plt.figure(figsize=(10,10))\n",
        "    plt.subplot(121)\n",
        "    plot_confusion_matrix(conf_mat, CLASSES_LIST, title='Confusion matrix, without normalization')\n",
        "    plt.subplot(122)\n",
        "    plot_confusion_matrix(conf_mat, CLASSES_LIST, normalize=True, title='Normalized confusion matrix')\n",
        "    plt.show()\n"
      ],
      "execution_count": null,
      "outputs": []
    },
    {
      "cell_type": "code",
      "metadata": {
        "id": "NDAnl-Zj4Qt6",
        "colab": {
          "base_uri": "https://localhost:8080/",
          "height": 543
        },
        "outputId": "a3b176a3-48b4-4a76-cacd-1a50dcf65bcd"
      },
      "source": [
        "plot_conf_mat(y_test,y_pred)"
      ],
      "execution_count": null,
      "outputs": [
        {
          "output_type": "stream",
          "text": [
            "[[ 367    2   20    1    0    5]\n",
            " [   0  401  210    5    0    7]\n",
            " [   0   28 5751   22    1   55]\n",
            " [   0    9  162  307    0   11]\n",
            " [   0    0   25    1   66    7]\n",
            " [   0    0   99    4    0 1798]]\n",
            "Confusion matrix, without normalization\n",
            "Normalized confusion matrix\n"
          ],
          "name": "stdout"
        },
        {
          "output_type": "display_data",
          "data": {
            "image/png": "[encoded data removed]",
            "text/plain": [
              "<Figure size 720x720 with 2 Axes>"
            ]
          },
          "metadata": {
            "tags": []
          }
        }
      ]
    }
  ]
}